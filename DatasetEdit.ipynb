{
  "nbformat": 4,
  "nbformat_minor": 0,
  "metadata": {
    "colab": {
      "provenance": [],
      "authorship_tag": "ABX9TyO67Zl3LEFwlJyr3dKNElpc",
      "include_colab_link": true
    },
    "kernelspec": {
      "name": "python3",
      "display_name": "Python 3"
    },
    "language_info": {
      "name": "python"
    }
  },
  "cells": [
    {
      "cell_type": "markdown",
      "metadata": {
        "id": "view-in-github",
        "colab_type": "text"
      },
      "source": [
        "<a href=\"https://colab.research.google.com/github/1MedvedevV/M_AI/blob/main/DatasetEdit.ipynb\" target=\"_parent\"><img src=\"https://colab.research.google.com/assets/colab-badge.svg\" alt=\"Open In Colab\"/></a>"
      ]
    },
    {
      "cell_type": "code",
      "execution_count": 1,
      "metadata": {
        "colab": {
          "base_uri": "https://localhost:8080/"
        },
        "id": "B53AshPkJTYx",
        "outputId": "f5e43fbf-ea7e-45b2-ddce-47b03103626a"
      },
      "outputs": [
        {
          "output_type": "stream",
          "name": "stdout",
          "text": [
            "                                        Name     Mileage  Rating Review Count  \\\n",
            "0    2021 Mercedes-Benz A-Class A 220 4MATIC  29,636 mi.     3.9       1,800    \n",
            "1          2022 Mercedes-Benz AMG SL 63 Base   5,540 mi.     4.7       1,239    \n",
            "2          2022 Mercedes-Benz AMG SL 63 Base   4,890 mi.     4.7       1,239    \n",
            "3    2020 Mercedes-Benz AMG E 53 Base 4MATIC  29,746 mi.     4.8         752    \n",
            "4  2021 Mercedes-Benz AMG GLS 63 Base 4MATIC  32,631 mi.     5.0       1,502    \n",
            "\n",
            "      Price  \n",
            "0   $30,900  \n",
            "1  $139,999  \n",
            "2  $132,999  \n",
            "3   $58,587  \n",
            "4   $95,990  \n",
            "                                        Name  Mileage  Rating  Review Count  \\\n",
            "0    2021 Mercedes-Benz A-Class A 220 4MATIC  29636.0     3.9        1800.0   \n",
            "1          2022 Mercedes-Benz AMG SL 63 Base   5540.0     4.7        1239.0   \n",
            "2          2022 Mercedes-Benz AMG SL 63 Base   4890.0     4.7        1239.0   \n",
            "3    2020 Mercedes-Benz AMG E 53 Base 4MATIC  29746.0     4.8         752.0   \n",
            "4  2021 Mercedes-Benz AMG GLS 63 Base 4MATIC  32631.0     5.0        1502.0   \n",
            "\n",
            "      Price  \n",
            "0   30900.0  \n",
            "1  139999.0  \n",
            "2  132999.0  \n",
            "3   58587.0  \n",
            "4   95990.0  \n"
          ]
        }
      ],
      "source": [
        "# Импорт библиотек\n",
        "import pandas as pd\n",
        "import numpy as np\n",
        "\n",
        "# Загрузка данных\n",
        "url = 'https://raw.githubusercontent.com/1MedvedevV/M_AI/refs/heads/main/usa_mercedes_benz_prices.csv'\n",
        "df = pd.read_csv(url)\n",
        "\n",
        "# Просмотр данных\n",
        "print(df.head())\n",
        "\n",
        "# Преобразование столбца 'Price' в числовой формат\n",
        "df['Price'] = df['Price'].replace('Not Priced', np.nan)  # Заменяем 'Not Priced' на NaN\n",
        "df['Price'] = df['Price'].replace({'\\$': '', ',': ''}, regex=True).astype(float)\n",
        "\n",
        "# Преобразование столбца 'Mileage' в числовой формат\n",
        "df['Mileage'] = df['Mileage'].replace({' mi.': '', ',': ''}, regex=True).astype(float)\n",
        "\n",
        "# Преобразование столбца 'Rating' в числовой формат\n",
        "df['Rating'] = pd.to_numeric(df['Rating'], errors='coerce')\n",
        "\n",
        "# Преобразование столбца 'Review Count' в числовой формат\n",
        "df['Review Count'] = df['Review Count'].replace({',': '', ' ': ''}, regex=True).astype(float)\n",
        "\n",
        "# Просмотр преобразованных данных\n",
        "print(df.head())\n"
      ]
    }
  ]
}